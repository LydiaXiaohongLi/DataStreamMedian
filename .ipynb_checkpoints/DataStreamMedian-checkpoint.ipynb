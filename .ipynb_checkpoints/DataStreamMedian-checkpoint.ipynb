{
 "cells": [
  {
   "cell_type": "code",
   "execution_count": 52,
   "metadata": {},
   "outputs": [],
   "source": [
    "import math\n",
    "import heapq\n",
    "import copy\n",
    "number_list=[]\n",
    "with open('Data\\Median.txt') as file:\n",
    "    for line in file:\n",
    "        number_list.append(int(line)) "
   ]
  },
  {
   "cell_type": "code",
   "execution_count": 44,
   "metadata": {},
   "outputs": [],
   "source": [
    "#implementation of max_heap\n",
    "import math\n",
    "def heappush(heap,key):\n",
    "    n=len(heap)\n",
    "    heap.append(key)\n",
    "    bubbleup(heap,n)\n",
    "def bubbleup(heap,ind):\n",
    "    if ind==0:\n",
    "        return\n",
    "    if heap[math.floor((ind-1)/2)]<heap[ind]:\n",
    "        swap(heap, ind, math.floor((ind-1)/2))\n",
    "        bubbleup(heap,math.floor((ind-1)/2))\n",
    "def heappop(heap):\n",
    "    heapmax=heap[0]\n",
    "    heap[0]=heap[len(heap)-1]\n",
    "    bubbledown(heap,0)\n",
    "    return heapmax\n",
    "def bubbledown(heap,ind):\n",
    "    #if the node has two child\n",
    "    if (ind*2+2) < len(heap):\n",
    "        if (heap[ind]<heap[ind*2+1])&(heap[ind]<heap[ind*2+2]):\n",
    "            if heap[ind*2+1]>heap[ind*2+2]:\n",
    "                swap(heap,ind,(ind*2+1))\n",
    "                bubbledown(heap,(ind*2+1))\n",
    "            else:\n",
    "                swap(heap,ind,(ind*2+2))\n",
    "                bubbledown(heap,(ind*2+2))\n",
    "        elif (heap[ind]<heap[ind*2+1]):\n",
    "            swap(heap,ind,(ind*2+1))\n",
    "            bubbledown(heap,(ind*2+1))  \n",
    "        elif (heap[ind]<heap[ind*2+2]):\n",
    "            swap(heap,ind,(ind*2+2))\n",
    "            bubbledown(heap,(ind*2+2))\n",
    "        else:\n",
    "            heap.pop()\n",
    "            return\n",
    "    #if the node only has one child\n",
    "    elif (ind*2+1) < len(heap):\n",
    "        if heap[ind]<heap[ind*2+1]:\n",
    "            swap(heap,ind,(ind*2+1))\n",
    "            bubbledown(heap,(ind*2+1))\n",
    "        else:\n",
    "            heap.pop()\n",
    "            return            \n",
    "    #if the node doesnt have child\n",
    "    else:\n",
    "        heap.pop()\n",
    "        return            \n",
    "def swap(heap, ind1, ind2):\n",
    "    tmp=heap[ind1]\n",
    "    heap[ind1]=heap[ind2]\n",
    "    heap[ind2]=tmp\n",
    "    "
   ]
  },
  {
   "cell_type": "code",
   "execution_count": 53,
   "metadata": {},
   "outputs": [],
   "source": [
    "class MedianGenerator (object):\n",
    "    def __init__(self, number_list):\n",
    "        self.inputlist=copy.deepcopy(number_list)\n",
    "        self.medianlist=[]\n",
    "        #minHeap contains the current data stream's bigger half of data\n",
    "        #if current stream contains odd number of data, minHeap contains one data point less than maxHeap\n",
    "        self.minHeap=[]\n",
    "        #maxHeap contains the current data stream's smaller half of data\n",
    "        self.maxHeap=[]\n",
    "    def get_all_median(self):\n",
    "        for i in range(len(self.inputlist)):\n",
    "            #for first number, add to the maxHeap\n",
    "            if i==0:\n",
    "                heappush(self.maxHeap,self.inputlist[i])\n",
    "            elif i==1:\n",
    "                if self.inputlist[i]>=self.maxHeap[0]:\n",
    "                    heapq.heappush(self.minHeap,self.inputlist[i])\n",
    "                else:\n",
    "                    heapq.heappush(self.minHeap, heappop(self.maxHeap))\n",
    "                    heappush(self.maxHeap,self.inputlist[i])                   \n",
    "            else:\n",
    "                if len(self.maxHeap)<(i+1-math.floor((i+1)/2)):\n",
    "                    if self.inputlist[i]>=self.minHeap[0]:\n",
    "                        heappush(self.maxHeap,heapq.heappop(self.minHeap))\n",
    "                        heapq.heappush(self.minHeap,self.inputlist[i])\n",
    "                    else:\n",
    "                        heappush(self.maxHeap,self.inputlist[i])\n",
    "                else:\n",
    "                    if self.inputlist[i]>=self.maxHeap[0]:\n",
    "                        heapq.heappush(self.minHeap,self.inputlist[i])\n",
    "                    else:\n",
    "                        heapq.heappush(self.minHeap,heappop(self.maxHeap))\n",
    "                        heappush(self.maxHeap,self.inputlist[i])\n",
    "            self.medianlist.append(self.maxHeap[0])"
   ]
  },
  {
   "cell_type": "code",
   "execution_count": 54,
   "metadata": {},
   "outputs": [
    {
     "data": {
      "text/plain": [
       "[1, 1, 3, 2, 3, 3, 4, 3]"
      ]
     },
     "execution_count": 54,
     "metadata": {},
     "output_type": "execute_result"
    }
   ],
   "source": [
    "medianGen=MedianGenerator(number_list)\n",
    "medianGen.get_all_median()\n",
    "medianGen.medianlist"
   ]
  }
 ],
 "metadata": {
  "kernelspec": {
   "display_name": "Python 3",
   "language": "python",
   "name": "python3"
  },
  "language_info": {
   "codemirror_mode": {
    "name": "ipython",
    "version": 3
   },
   "file_extension": ".py",
   "mimetype": "text/x-python",
   "name": "python",
   "nbconvert_exporter": "python",
   "pygments_lexer": "ipython3",
   "version": "3.6.4"
  }
 },
 "nbformat": 4,
 "nbformat_minor": 2
}
